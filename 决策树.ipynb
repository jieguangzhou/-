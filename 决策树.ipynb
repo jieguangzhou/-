{
 "cells": [
  {
   "cell_type": "code",
   "execution_count": 1,
   "metadata": {
    "collapsed": false,
    "id": "1F35B19560A242D49CEE4A465C3DB841",
    "scrolled": false
   },
   "outputs": [],
   "source": [
    "import matplotlib.pyplot as plt\n",
    "%matplotlib inline\n",
    "\n",
    "import numpy as np\n",
    "from math import log as ln, log2"
   ]
  },
  {
   "cell_type": "markdown",
   "metadata": {
    "id": "B584E0AD7503430A9B8646EEB2E67A9C",
    "mdEditEnable": false
   },
   "source": [
    "随机变量X的熵的定义为：\n",
    "$$\n",
    "H(X) = -\\sum_{i=1}^n p_i \\; log \\; p_i\n",
    "$$\n",
    "其中当pi=0时，定义0log0=0；当对数以2或者e为底时，熵的单位分别称为比特(bit)或纳特(nat)"
   ]
  },
  {
   "cell_type": "code",
   "execution_count": 2,
   "metadata": {
    "collapsed": false,
    "id": "EDE19C4A78BD49B7983C854ADFDF30A3",
    "scrolled": false
   },
   "outputs": [],
   "source": [
    "# 定义熵计算函数\n",
    "def calc_entropy(pros, base='2'):\n",
    "    log = log2 if base == '2' else ln\n",
    "    entropy = 0\n",
    "    for pro in pros:\n",
    "        if pro == 0:\n",
    "            continue\n",
    "        entropy -= pro * log(pro)\n",
    "    return entropy"
   ]
  },
  {
   "cell_type": "code",
   "execution_count": 3,
   "metadata": {
    "collapsed": false,
    "id": "FFAF28156AF4495C834A07E481D5360D",
    "scrolled": false
   },
   "outputs": [
    {
     "data": {
      "text/plain": [
       "1.0"
      ]
     },
     "execution_count": 3,
     "metadata": {},
     "output_type": "execute_result"
    }
   ],
   "source": [
    "# 计算一个随机变量只有两个值，且概率都为0.5时的熵\n",
    "calc_entropy([0.5, 0.5])"
   ]
  },
  {
   "cell_type": "markdown",
   "metadata": {
    "id": "E5DCDC2EA68841D18EA27433BE4CB3C2",
    "mdEditEnable": false
   },
   "source": [
    "假设随机变量只取两个值1，0，则有\n",
    "$$\n",
    "P(X=1)=p, P(X=0)=1-p，0 \\leq p \\leq 1\n",
    "$$\n",
    "可以画出这个分布随着p的变化"
   ]
  },
  {
   "cell_type": "code",
   "execution_count": 4,
   "metadata": {
    "collapsed": false,
    "id": "FEF20B0170B24CBFBBB2145F7E5792A5",
    "scrolled": false
   },
   "outputs": [],
   "source": [
    "ps = []\n",
    "entropys = []\n",
    "for n in range(0, 101):\n",
    "    p = n / 100\n",
    "    entropy = calc_entropy([p, 1-p])\n",
    "    ps.append(p)\n",
    "    entropys.append(entropy)"
   ]
  },
  {
   "cell_type": "code",
   "execution_count": 5,
   "metadata": {
    "collapsed": false,
    "id": "B23FD11528EE4246805552F14CCBD1B6",
    "scrolled": false
   },
   "outputs": [
    {
     "data": {
      "image/png": "[encoded data removed]",
      "text/plain": [
       "<matplotlib.figure.Figure at 0x7f77a2e27748>"
      ]
     },
     "metadata": {},
     "output_type": "display_data"
    }
   ],
   "source": [
    "plt.plot(ps, entropys)\n",
    "plt.xlabel('p')\n",
    "plt.ylabel('H(p)')\n",
    "plt.show()"
   ]
  },
  {
   "cell_type": "markdown",
   "metadata": {
    "id": "14B8223E5F0245EB8B1320E10616DAA0",
    "mdEditEnable": false
   },
   "source": [
    "首先先导入例5.1中的数据"
   ]
  },
  {
   "cell_type": "code",
   "execution_count": 6,
   "metadata": {
    "collapsed": false,
    "id": "94A2044AF65E4962A4EC305FE86F24C9",
    "scrolled": false
   },
   "outputs": [],
   "source": [
    "import pandas as pd"
   ]
  },
  {
   "cell_type": "code",
   "execution_count": 7,
   "metadata": {
    "collapsed": false,
    "id": "474724E309684CBF8712BDFE7153E5C5",
    "scrolled": false
   },
   "outputs": [],
   "source": [
    "input_data = [\n",
    "    ['青年', '否', '否', '一般', '否'],\n",
    "    ['青年', '否', '否', '好', '否'],\n",
    "    ['青年', '是', '否', '好', '是'],\n",
    "    ['青年', '是', '是', '一般', '是'],\n",
    "    ['青年', '否', '否', '一般', '否'],\n",
    "    ['中年', '否', '否', '一般', '否'],\n",
    "    ['中年', '否', '否', '好', '否'],\n",
    "    ['中年', '是', '是', '好', '是'],\n",
    "    ['中年', '否', '是', '非常好', '是'],\n",
    "    ['中年', '否', '是', '非常好', '是'],\n",
    "    ['老年', '否', '是', '非常好', '是'],\n",
    "    ['老年', '否', '是', '好', '是'],\n",
    "    ['老年', '是', '否', '好', '是'],\n",
    "    ['老年', '是', '否', '非常好', '是'],\n",
    "    ['老年', '否', '否', '一般', '否'],\n",
    "    ]\n",
    "features_name = ['年龄', '有工作', '有自己的房子', '信贷情况']\n",
    "data = pd.DataFrame(input_data, columns=features_name+['类别'])"
   ]
  },
  {
   "cell_type": "code",
   "execution_count": 8,
   "metadata": {
    "collapsed": false,
    "id": "51B68D7365ED4858B770B29E2842ABCD",
    "scrolled": false
   },
   "outputs": [
    {
     "data": {
      "text/plain": [
       "['年龄', '有工作', '有自己的房子', '信贷情况']"
      ]
     },
     "execution_count": 8,
     "metadata": {},
     "output_type": "execute_result"
    }
   ],
   "source": [
    "features_name"
   ]
  },
  {
   "cell_type": "code",
   "execution_count": 9,
   "metadata": {
    "collapsed": false,
    "id": "E5D5B7F7541349CF89A66797C383AE88",
    "scrolled": false
   },
   "outputs": [
    {
     "data": {
      "text/html": [
       "<div>\n",
       "<table border=\"1\" class=\"dataframe\">\n",
       "  <thead>\n",
       "    <tr style=\"text-align: right;\">\n",
       "      <th></th>\n",
       "      <th>年龄</th>\n",
       "      <th>有工作</th>\n",
       "      <th>有自己的房子</th>\n",
       "      <th>信贷情况</th>\n",
       "      <th>类别</th>\n",
       "    </tr>\n",
       "  </thead>\n",
       "  <tbody>\n",
       "    <tr>\n",
       "      <th>0</th>\n",
       "      <td>青年</td>\n",
       "      <td>否</td>\n",
       "      <td>否</td>\n",
       "      <td>一般</td>\n",
       "      <td>否</td>\n",
       "    </tr>\n",
       "    <tr>\n",
       "      <th>1</th>\n",
       "      <td>青年</td>\n",
       "      <td>否</td>\n",
       "      <td>否</td>\n",
       "      <td>好</td>\n",
       "      <td>否</td>\n",
       "    </tr>\n",
       "    <tr>\n",
       "      <th>2</th>\n",
       "      <td>青年</td>\n",
       "      <td>是</td>\n",
       "      <td>否</td>\n",
       "      <td>好</td>\n",
       "      <td>是</td>\n",
       "    </tr>\n",
       "    <tr>\n",
       "      <th>3</th>\n",
       "      <td>青年</td>\n",
       "      <td>是</td>\n",
       "      <td>是</td>\n",
       "      <td>一般</td>\n",
       "      <td>是</td>\n",
       "    </tr>\n",
       "    <tr>\n",
       "      <th>4</th>\n",
       "      <td>青年</td>\n",
       "      <td>否</td>\n",
       "      <td>否</td>\n",
       "      <td>一般</td>\n",
       "      <td>否</td>\n",
       "    </tr>\n",
       "    <tr>\n",
       "      <th>5</th>\n",
       "      <td>中年</td>\n",
       "      <td>否</td>\n",
       "      <td>否</td>\n",
       "      <td>一般</td>\n",
       "      <td>否</td>\n",
       "    </tr>\n",
       "    <tr>\n",
       "      <th>6</th>\n",
       "      <td>中年</td>\n",
       "      <td>否</td>\n",
       "      <td>否</td>\n",
       "      <td>好</td>\n",
       "      <td>否</td>\n",
       "    </tr>\n",
       "    <tr>\n",
       "      <th>7</th>\n",
       "      <td>中年</td>\n",
       "      <td>是</td>\n",
       "      <td>是</td>\n",
       "      <td>好</td>\n",
       "      <td>是</td>\n",
       "    </tr>\n",
       "    <tr>\n",
       "      <th>8</th>\n",
       "      <td>中年</td>\n",
       "      <td>否</td>\n",
       "      <td>是</td>\n",
       "      <td>非常好</td>\n",
       "      <td>是</td>\n",
       "    </tr>\n",
       "    <tr>\n",
       "      <th>9</th>\n",
       "      <td>中年</td>\n",
       "      <td>否</td>\n",
       "      <td>是</td>\n",
       "      <td>非常好</td>\n",
       "      <td>是</td>\n",
       "    </tr>\n",
       "    <tr>\n",
       "      <th>10</th>\n",
       "      <td>老年</td>\n",
       "      <td>否</td>\n",
       "      <td>是</td>\n",
       "      <td>非常好</td>\n",
       "      <td>是</td>\n",
       "    </tr>\n",
       "    <tr>\n",
       "      <th>11</th>\n",
       "      <td>老年</td>\n",
       "      <td>否</td>\n",
       "      <td>是</td>\n",
       "      <td>好</td>\n",
       "      <td>是</td>\n",
       "    </tr>\n",
       "    <tr>\n",
       "      <th>12</th>\n",
       "      <td>老年</td>\n",
       "      <td>是</td>\n",
       "      <td>否</td>\n",
       "      <td>好</td>\n",
       "      <td>是</td>\n",
       "    </tr>\n",
       "    <tr>\n",
       "      <th>13</th>\n",
       "      <td>老年</td>\n",
       "      <td>是</td>\n",
       "      <td>否</td>\n",
       "      <td>非常好</td>\n",
       "      <td>是</td>\n",
       "    </tr>\n",
       "    <tr>\n",
       "      <th>14</th>\n",
       "      <td>老年</td>\n",
       "      <td>否</td>\n",
       "      <td>否</td>\n",
       "      <td>一般</td>\n",
       "      <td>否</td>\n",
       "    </tr>\n",
       "  </tbody>\n",
       "</table>\n",
       "</div>"
      ],
      "text/plain": [
       "    年龄 有工作 有自己的房子 信贷情况 类别\n",
       "0   青年   否      否   一般  否\n",
       "1   青年   否      否    好  否\n",
       "2   青年   是      否    好  是\n",
       "3   青年   是      是   一般  是\n",
       "4   青年   否      否   一般  否\n",
       "5   中年   否      否   一般  否\n",
       "6   中年   否      否    好  否\n",
       "7   中年   是      是    好  是\n",
       "8   中年   否      是  非常好  是\n",
       "9   中年   否      是  非常好  是\n",
       "10  老年   否      是  非常好  是\n",
       "11  老年   否      是    好  是\n",
       "12  老年   是      否    好  是\n",
       "13  老年   是      否  非常好  是\n",
       "14  老年   否      否   一般  否"
      ]
     },
     "execution_count": 9,
     "metadata": {},
     "output_type": "execute_result"
    }
   ],
   "source": [
    "data"
   ]
  },
  {
   "cell_type": "markdown",
   "metadata": {
    "id": "4FDF7A4517E44402866A515F89540F6C",
    "mdEditEnable": false
   },
   "source": [
    "### 信息增益\n",
    "条件熵表示在已知随机变量X的条件下随机变量Y的不确定性，定义为X给定条件下Y的条件概率分布的熵对X的数学期望\n",
    "$$\n",
    "H(Y|X) = \\sum_{i=1}^n p_i \\; H(Y|X=x_i) \\\\\n",
    "p_i = P(X=x_i)\n",
    "$$"
   ]
  },
  {
   "cell_type": "code",
   "execution_count": 10,
   "metadata": {
    "collapsed": false,
    "id": "F206DBD0BD774F60987ABAE380D339F0",
    "scrolled": false
   },
   "outputs": [
    {
     "data": {
      "text/plain": [
       "{'中年', '老年', '青年'}"
      ]
     },
     "execution_count": 10,
     "metadata": {},
     "output_type": "execute_result"
    }
   ],
   "source": [
    "# 以年龄特征为例子，计算给定年龄的条件下，类别的条件熵\n",
    "# 年龄的取值有\n",
    "feature_name = '年龄'\n",
    "values_set = set(data[feature_name])\n",
    "values_set"
   ]
  },
  {
   "cell_type": "code",
   "execution_count": 11,
   "metadata": {
    "collapsed": false,
    "id": "A44D7D6654F94DE39C574C78042CE37F",
    "scrolled": false
   },
   "outputs": [
    {
     "data": {
      "text/html": [
       "<div>\n",
       "<table border=\"1\" class=\"dataframe\">\n",
       "  <thead>\n",
       "    <tr style=\"text-align: right;\">\n",
       "      <th></th>\n",
       "      <th>年龄</th>\n",
       "      <th>有工作</th>\n",
       "      <th>有自己的房子</th>\n",
       "      <th>信贷情况</th>\n",
       "      <th>类别</th>\n",
       "    </tr>\n",
       "  </thead>\n",
       "  <tbody>\n",
       "    <tr>\n",
       "      <th>5</th>\n",
       "      <td>中年</td>\n",
       "      <td>否</td>\n",
       "      <td>否</td>\n",
       "      <td>一般</td>\n",
       "      <td>否</td>\n",
       "    </tr>\n",
       "    <tr>\n",
       "      <th>6</th>\n",
       "      <td>中年</td>\n",
       "      <td>否</td>\n",
       "      <td>否</td>\n",
       "      <td>好</td>\n",
       "      <td>否</td>\n",
       "    </tr>\n",
       "    <tr>\n",
       "      <th>7</th>\n",
       "      <td>中年</td>\n",
       "      <td>是</td>\n",
       "      <td>是</td>\n",
       "      <td>好</td>\n",
       "      <td>是</td>\n",
       "    </tr>\n",
       "    <tr>\n",
       "      <th>8</th>\n",
       "      <td>中年</td>\n",
       "      <td>否</td>\n",
       "      <td>是</td>\n",
       "      <td>非常好</td>\n",
       "      <td>是</td>\n",
       "    </tr>\n",
       "    <tr>\n",
       "      <th>9</th>\n",
       "      <td>中年</td>\n",
       "      <td>否</td>\n",
       "      <td>是</td>\n",
       "      <td>非常好</td>\n",
       "      <td>是</td>\n",
       "    </tr>\n",
       "  </tbody>\n",
       "</table>\n",
       "</div>"
      ],
      "text/plain": [
       "   年龄 有工作 有自己的房子 信贷情况 类别\n",
       "5  中年   否      否   一般  否\n",
       "6  中年   否      否    好  否\n",
       "7  中年   是      是    好  是\n",
       "8  中年   否      是  非常好  是\n",
       "9  中年   否      是  非常好  是"
      ]
     },
     "execution_count": 11,
     "metadata": {},
     "output_type": "execute_result"
    }
   ],
   "source": [
    "# 当年龄为中年时，得到一个子集\n",
    "value = '中年'\n",
    "sub_data = data[data[feature_name] == value]\n",
    "sub_data"
   ]
  },
  {
   "cell_type": "code",
   "execution_count": 12,
   "metadata": {
    "collapsed": false,
    "id": "778263F945DC49B58D3E1CDDFBC2C364",
    "scrolled": false
   },
   "outputs": [
    {
     "name": "stdout",
     "output_type": "stream",
     "text": [
      "类别\n",
      "5    否\n",
      "6    否\n",
      "7    是\n",
      "8    是\n",
      "9    是\n",
      "Name: 类别, dtype: object\n",
      "类别的频数\n",
      "是    3\n",
      "否    2\n",
      "Name: 类别, dtype: int64\n",
      "子集中类别的概率\n",
      "是    0.6\n",
      "否    0.4\n",
      "Name: 类别, dtype: float64\n",
      "0.970950594455\n"
     ]
    }
   ],
   "source": [
    "# 得到类别\n",
    "labels = sub_data['类别']\n",
    "print('类别')\n",
    "print(labels)\n",
    "print('类别的频数')\n",
    "print(labels.value_counts())\n",
    "print('子集中类别的概率')\n",
    "pros = labels.value_counts() / len(labels)\n",
    "print(pros)\n",
    "# 子集的熵为\n",
    "sub_HD = calc_entropy(pros.values)\n",
    "print(sub_HD)"
   ]
  },
  {
   "cell_type": "code",
   "execution_count": 13,
   "metadata": {
    "collapsed": false,
    "id": "2BA8F2ED3C8F430E8C649CC07B187311",
    "scrolled": false
   },
   "outputs": [],
   "source": [
    "# 现在计算遍历所有取值，计算经验条件熵\n",
    "def calc_feature_entropy(data, feature_name):\n",
    "    values_set = sorted(set(data[feature_name]))\n",
    "    all_num = len(data)\n",
    "    HDA = 0\n",
    "    for value in values_set:\n",
    "        sub_data = data[data[feature_name] == value]\n",
    "        labels = sub_data['类别']\n",
    "        pros = labels.value_counts() / len(labels)\n",
    "        sub_HD = calc_entropy(pros.values)\n",
    "        p = len(sub_data) / all_num\n",
    "        HDA += p * sub_HD\n",
    "    return HDA\n",
    "    \n",
    "    \n",
    "# 现在计算遍历所有取值，计算经验条件熵\n",
    "def calc_HD(data):\n",
    "    labels = data['类别']\n",
    "    pros = labels.value_counts() / len(labels)\n",
    "    HD = calc_entropy(pros.values)\n",
    "    return HD"
   ]
  },
  {
   "cell_type": "code",
   "execution_count": 14,
   "metadata": {
    "collapsed": false,
    "id": "CA8781F222B14E3C8B810A490CDF1BF5",
    "scrolled": false
   },
   "outputs": [
    {
     "data": {
      "text/plain": [
       "['年龄', '有工作', '有自己的房子', '信贷情况']"
      ]
     },
     "execution_count": 14,
     "metadata": {},
     "output_type": "execute_result"
    }
   ],
   "source": [
    "features_name"
   ]
  },
  {
   "cell_type": "code",
   "execution_count": 15,
   "metadata": {
    "collapsed": true
   },
   "outputs": [],
   "source": [
    "def calc_gDAs(data):\n",
    "    features_name = data.columns\n",
    "    gDAs = []\n",
    "    HD = calc_HD(data)\n",
    "    for feature_name in features_name:\n",
    "        if feature_name == '类别':\n",
    "            continue\n",
    "        HDA = calc_feature_entropy(data, feature_name)\n",
    "        gDA = HD - HDA\n",
    "        gDAs.append([gDA, feature_name])\n",
    "    return gDAs"
   ]
  },
  {
   "cell_type": "code",
   "execution_count": 16,
   "metadata": {
    "collapsed": false
   },
   "outputs": [
    {
     "data": {
      "text/plain": [
       "[[0.083007499855768829, '年龄'],\n",
       " [0.32365019815155627, '有工作'],\n",
       " [0.41997309402197491, '有自己的房子'],\n",
       " [0.36298956253708536, '信贷情况']]"
      ]
     },
     "execution_count": 16,
     "metadata": {},
     "output_type": "execute_result"
    }
   ],
   "source": [
    "calc_gDAs(data)"
   ]
  },
  {
   "cell_type": "markdown",
   "metadata": {
    "id": "09111EDD567948768068F2F11A979D53",
    "mdEditEnable": false
   },
   "source": [
    "### 信息增益比\n",
    "信息增益比定义为：\n",
    "$$\n",
    "g_R(D,A) = \\frac{g(D,A)}{H_A(D)}\n",
    "$$\n",
    "其中\n",
    "$$\n",
    "H_A(D) = -\\sum_{i=1}^n \\frac{D_i}{D}log_2 \\frac{D_i}{D}\n",
    "$$"
   ]
  },
  {
   "cell_type": "code",
   "execution_count": 17,
   "metadata": {
    "collapsed": true
   },
   "outputs": [],
   "source": [
    "def calc_gDAs(data, norm=False):\n",
    "    features_name = data.columns\n",
    "    gDAs = []\n",
    "    HD = calc_HD(data)\n",
    "    HAD = 0\n",
    "    for feature_name in features_name:\n",
    "        if feature_name == '类别':\n",
    "            continue\n",
    "        HDA = calc_feature_entropy(data, feature_name)\n",
    "        gDA = HD - HDA\n",
    "        HAD += HDA\n",
    "        gDAs.append([gDA, feature_name])\n",
    "        \n",
    "    if norm and HAD != 0:\n",
    "        gDAs = [[gDA / HAD, feature_name] for gDA, feature_name in gDAs]\n",
    "    return gDAs"
   ]
  },
  {
   "cell_type": "code",
   "execution_count": 18,
   "metadata": {
    "collapsed": false
   },
   "outputs": [
    {
     "data": {
      "text/plain": [
       "[[0.030809907845634758, '年龄'],\n",
       " [0.1201292991187214, '有工作'],\n",
       " [0.15588148476879943, '有自己的房子'],\n",
       " [0.13473089769150101, '信贷情况']]"
      ]
     },
     "execution_count": 18,
     "metadata": {},
     "output_type": "execute_result"
    }
   ],
   "source": [
    "calc_gDAs(data, norm=True)"
   ]
  },
  {
   "cell_type": "markdown",
   "metadata": {
    "id": "FE176DD1350042F3A4E82103A7F6D1FB"
   },
   "source": [
    "### 决策树的生成\n",
    "#### ID3 算法"
   ]
  },
  {
   "cell_type": "code",
   "execution_count": 19,
   "metadata": {
    "collapsed": true
   },
   "outputs": [],
   "source": [
    "def choose_best_feature(data, norm=False):\n",
    "    features_name = data.columns\n",
    "    if len(features_name) == 1:\n",
    "        return None, None, 0\n",
    "    HD = calc_HD(data)\n",
    "    gDAs = calc_gDAs(data, norm=norm)\n",
    "        \n",
    "    score, best_feature = max(gDAs)\n",
    "    sub_data_features_name = [i for i in features_name if i != best_feature]\n",
    "    sub_datas = {}\n",
    "    for value, sub_data in data.groupby(best_feature):\n",
    "        sub_datas[value] = sub_data[sub_data_features_name]\n",
    "    \n",
    "    return best_feature, sub_datas, score"
   ]
  },
  {
   "cell_type": "code",
   "execution_count": 20,
   "metadata": {
    "collapsed": false
   },
   "outputs": [],
   "source": [
    "best_feature, sub_data, score = choose_best_feature(data)"
   ]
  },
  {
   "cell_type": "code",
   "execution_count": 21,
   "metadata": {
    "collapsed": false
   },
   "outputs": [],
   "source": [
    "from collections import Counter\n",
    "def create_sub_tree(data, epsilon=0.05, norm=False):\n",
    "    tree = {}\n",
    "    labels = Counter(data['类别'])\n",
    "    if len(labels) == 1 or len(data.columns) == 1:\n",
    "        return labels.most_common(1)[0][0]\n",
    "    best_feature, sub_datas, score = choose_best_feature(data, norm=norm)\n",
    "    \n",
    "    if score < epsilon:\n",
    "        return labels.most_common(1)[0][0]\n",
    "    \n",
    "    for value, sub_data in sub_datas.items():\n",
    "        sub_tree = create_sub_tree(sub_data)\n",
    "        tree[best_feature, value] = sub_tree\n",
    "    return tree"
   ]
  },
  {
   "cell_type": "code",
   "execution_count": 22,
   "metadata": {
    "collapsed": false
   },
   "outputs": [
    {
     "data": {
      "text/plain": [
       "{('有自己的房子', '否'): {('有工作', '否'): '否', ('有工作', '是'): '是'}, ('有自己的房子', '是'): '是'}"
      ]
     },
     "execution_count": 22,
     "metadata": {},
     "output_type": "execute_result"
    }
   ],
   "source": [
    "tree = create_sub_tree(data)\n",
    "tree"
   ]
  },
  {
   "cell_type": "markdown",
   "metadata": {},
   "source": [
    "#### c4.5 的生成算法\n",
    "在生成过程中，将ID3中的计算信息增益换成计算信息增益比"
   ]
  },
  {
   "cell_type": "code",
   "execution_count": 23,
   "metadata": {
    "collapsed": false
   },
   "outputs": [
    {
     "data": {
      "text/plain": [
       "{('有自己的房子', '否'): {('有工作', '否'): '否', ('有工作', '是'): '是'}, ('有自己的房子', '是'): '是'}"
      ]
     },
     "execution_count": 23,
     "metadata": {},
     "output_type": "execute_result"
    }
   ],
   "source": [
    "tree = create_sub_tree(data, norm=True)\n",
    "tree"
   ]
  },
  {
   "cell_type": "code",
   "execution_count": null,
   "metadata": {
    "collapsed": true
   },
   "outputs": [],
   "source": []
  }
 ],
 "metadata": {
  "anaconda-cloud": {},
  "kernelspec": {
   "display_name": "Python [default]",
   "language": "python",
   "name": "python3"
  },
  "language_info": {
   "codemirror_mode": {
    "name": "ipython",
    "version": 3
   },
   "file_extension": ".py",
   "mimetype": "text/x-python",
   "name": "python",
   "nbconvert_exporter": "python",
   "pygments_lexer": "ipython3",
   "version": "3.5.2"
  }
 },
 "nbformat": 4,
 "nbformat_minor": 0
}
