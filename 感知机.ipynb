{
  "cells": [
    {
      "metadata": {
        "trusted": true,
        "collapsed": true,
        "_uuid": "d25943f5fa0522ea17ceb240487735b24bf4e7f4"
      },
      "cell_type": "markdown",
      "source": "# 统计学习方法第二章 感知机代码\n笔记见[www.nlp2ai.com](www.nlp2ai.com)"
    },
    {
      "metadata": {
        "trusted": true,
        "collapsed": true,
        "_uuid": "81332029062101c105facf6325e2f46a0cbdf834"
      },
      "cell_type": "code",
      "source": "import numpy as np\nimport matplotlib.pyplot as plt\n%matplotlib inline",
      "execution_count": 1,
      "outputs": []
    },
    {
      "metadata": {
        "_cell_guid": "79c7e3d0-c299-4dcb-8224-4455121ee9b0",
        "collapsed": true,
        "_uuid": "d629ff2d2480ee46fbb7e2d37f6b5fab8052498a",
        "trusted": true
      },
      "cell_type": "code",
      "source": "# 用于打印数据\ndef print_var(var, name='x'):\n    print(name+':\\n',var, '\\nshape:', var.shape if hasattr(var, 'shape') else '')",
      "execution_count": 2,
      "outputs": []
    },
    {
      "metadata": {
        "_uuid": "7cff70525b01402be9acfa29ac0af5aaf712c057"
      },
      "cell_type": "markdown",
      "source": "# 以下为感知机学习算法的原始形式"
    },
    {
      "metadata": {
        "trusted": true,
        "_uuid": "84d8700f1a52367c67960fab3b2aafdb9370f249"
      },
      "cell_type": "code",
      "source": "# 例2.1 中的数据\nx = np.array([[3, 3],[4, 3], [1, 1]]).T\nprint_var(x, 'x')\ny = np.array([1, 1, -1])\nprint_var(y, 'y')\nlr = 1",
      "execution_count": 3,
      "outputs": [
        {
          "output_type": "stream",
          "text": "x:\n [[3 4 1]\n [3 3 1]] \nshape: (2, 3)\ny:\n [ 1  1 -1] \nshape: (3,)\n",
          "name": "stdout"
        }
      ]
    },
    {
      "metadata": {
        "trusted": true,
        "_uuid": "6150c9bbe1040bbe79aaae8a84c92dc1488c7fb7"
      },
      "cell_type": "code",
      "source": "w, b = np.zeros([1,2]), 0\nprint_var(w, 'w')\nprint_var(b, 'b')",
      "execution_count": 4,
      "outputs": [
        {
          "output_type": "stream",
          "text": "w:\n [[ 0.  0.]] \nshape: (1, 2)\nb:\n 0 \nshape: \n",
          "name": "stdout"
        }
      ]
    },
    {
      "metadata": {
        "trusted": true,
        "collapsed": true,
        "_uuid": "2a8f1b691018e79585591a9e4cc2b374ac3015c6"
      },
      "cell_type": "code",
      "source": "def wx_plus_b(x, w, b):\n    pred = np.dot(w, x) + b\n    return pred",
      "execution_count": 5,
      "outputs": []
    },
    {
      "metadata": {
        "trusted": true,
        "_uuid": "b9f726d2c0b0fc15c392daa38195c678c653a55c"
      },
      "cell_type": "code",
      "source": "all_True = False\niter_num = 0\n\n# 不断迭代，直到所有样本被正确分类为止\nwhile not all_True:\n    iter_num += 1\n    for i in range(x.shape[1]):\n        \n        # 取第i个样本\n        sample_x = x[:, i]\n        sample_y = y[i]\n        pred = wx_plus_b(sample_x, w, b)\n        \n        # 若样本被正确分类则跳过\n        if sample_y * pred > 0:\n            continue\n        else:\n            # 更新参数 w和b\n            w = w + lr * sample_y * sample_x\n            b = b + lr * sample_y\n            print(iter_num, ' x_%s '%(i+1), ' (%d,%d) '%(w[0,0], w[0,1]), str(b).rjust(2), '分类超平面: %dx1+%dx2%+d'%(w[0,0], w[0,1], b))\n            break\n    else:\n        # 若全部被分类\n        all_True = True\n        \n",
      "execution_count": 6,
      "outputs": [
        {
          "output_type": "stream",
          "text": "1  x_1   (3,3)   1 分类超平面: 3x1+3x2+1\n2  x_3   (2,2)   0 分类超平面: 2x1+2x2+0\n3  x_3   (1,1)  -1 分类超平面: 1x1+1x2-1\n4  x_3   (0,0)  -2 分类超平面: 0x1+0x2-2\n5  x_1   (3,3)  -1 分类超平面: 3x1+3x2-1\n6  x_3   (2,2)  -2 分类超平面: 2x1+2x2-2\n7  x_3   (1,1)  -3 分类超平面: 1x1+1x2-3\n",
          "name": "stdout"
        }
      ]
    },
    {
      "metadata": {
        "_uuid": "cdbe5f18b76f0819d8b02efdeef8607f0b16a5de"
      },
      "cell_type": "markdown",
      "source": "# 以下为感知机学习算法的对偶形式"
    },
    {
      "metadata": {
        "trusted": true,
        "_uuid": "1ecdcffeea0b6641796fd2a22369af20d64e95ff"
      },
      "cell_type": "code",
      "source": "# 例2.1 中的数据\nx = np.array([[3, 3],[4, 3], [1, 1]]).T\nprint_var(x, 'x')\ny = np.array([1, 1, -1])\nprint_var(y, 'y')\nlr = 1",
      "execution_count": 7,
      "outputs": [
        {
          "output_type": "stream",
          "text": "x:\n [[3 4 1]\n [3 3 1]] \nshape: (2, 3)\ny:\n [ 1  1 -1] \nshape: (3,)\n",
          "name": "stdout"
        }
      ]
    },
    {
      "metadata": {
        "trusted": true,
        "_uuid": "6665d98a30d91b54011becd71486850e2061b6a4"
      },
      "cell_type": "code",
      "source": "# 计算 Gram 矩阵，可由x点乘x的转置矩阵得到\nGram = np.dot(x.T, x)\nprint_var(Gram, 'Gram')",
      "execution_count": 8,
      "outputs": [
        {
          "output_type": "stream",
          "text": "Gram:\n [[18 21  6]\n [21 25  7]\n [ 6  7  2]] \nshape: (3, 3)\n",
          "name": "stdout"
        }
      ]
    },
    {
      "metadata": {
        "trusted": true,
        "_uuid": "5ee06d0a2e1d3d30196dd2c523fab31f4e8303a3"
      },
      "cell_type": "code",
      "source": "alpha = np.zeros(x.shape[1])\nprint_var(alpha, 'alpha')\nb = 0",
      "execution_count": 9,
      "outputs": [
        {
          "output_type": "stream",
          "text": "alpha:\n [ 0.  0.  0.] \nshape: (3,)\n",
          "name": "stdout"
        }
      ]
    },
    {
      "metadata": {
        "trusted": true,
        "collapsed": true,
        "_uuid": "0ac8d05d64f4d14508cb2da37021da835e840154"
      },
      "cell_type": "code",
      "source": "# 对偶形式的计算方法\ndef calc_dual(x_i_idx, alphas_j, ys_j, b):\n    \"\"\"\n    x_i_idx: 传入的样本的index\n    alphas_j: 所有alpha的值\n    ys_j: 所有y的值\n    \"\"\"\n    pred = 0\n    for j, (y_j, alpha_j) in enumerate(zip(ys_j, alphas_j)):\n        # 从Gram矩阵中取出 x_j_i，并按照公式计算\n        x_j_i = Gram[x_i_idx, j]\n        pred += alpha_j * y_j * x_j_i\n    pred = pred + b\n    return pred",
      "execution_count": 10,
      "outputs": []
    },
    {
      "metadata": {
        "trusted": true,
        "_uuid": "f0f37b7dedaa82f0f266dd69c098a8596ba5c10a"
      },
      "cell_type": "code",
      "source": "all_True = False\niter_num = 0\nwhile not all_True:\n    iter_num += 1\n    for i in range(x.shape[1]):\n        sample_y = y[i]\n        pred = calc_dual(i, alpha, y, b)\n        if sample_y * pred > 0:\n            continue\n        else:\n            # 更新参数alpha和b\n            alpha[i] += lr\n            b += lr * sample_y\n            \n            # 根据alpha和x,y计算w\n            w = (np.multiply(x, y) * alpha).sum(1)\n            S = ' 分类超平面: %dx1+%dx2%+d=0'%(w[0], w[1], b)\n            \n            print('k:%2d '%iter_num, ' x_%s '%(i+1), 'a1:%2d  a2:%2d  a3:%2d  b:%+d'%(*alpha, b), S)\n            \n            break\n    else:\n        all_True = True",
      "execution_count": 11,
      "outputs": [
        {
          "output_type": "stream",
          "text": "k: 1   x_1  a1: 1  a2: 0  a3: 0  b:+1  分类超平面: 3x1+3x2+1=0\nk: 2   x_3  a1: 1  a2: 0  a3: 1  b:+0  分类超平面: 2x1+2x2+0=0\nk: 3   x_3  a1: 1  a2: 0  a3: 2  b:-1  分类超平面: 1x1+1x2-1=0\nk: 4   x_3  a1: 1  a2: 0  a3: 3  b:-2  分类超平面: 0x1+0x2-2=0\nk: 5   x_1  a1: 2  a2: 0  a3: 3  b:-1  分类超平面: 3x1+3x2-1=0\nk: 6   x_3  a1: 2  a2: 0  a3: 4  b:-2  分类超平面: 2x1+2x2-2=0\nk: 7   x_3  a1: 2  a2: 0  a3: 5  b:-3  分类超平面: 1x1+1x2-3=0\n",
          "name": "stdout"
        }
      ]
    },
    {
      "metadata": {
        "trusted": true,
        "collapsed": true,
        "_uuid": "1f230507b76f0118cdc7dfce67f0052c0a3c0c7a"
      },
      "cell_type": "code",
      "source": "",
      "execution_count": null,
      "outputs": []
    }
  ],
  "metadata": {
    "kernelspec": {
      "display_name": "Python 3",
      "language": "python",
      "name": "python3"
    },
    "language_info": {
      "name": "python",
      "version": "3.6.5",
      "mimetype": "text/x-python",
      "codemirror_mode": {
        "name": "ipython",
        "version": 3
      },
      "pygments_lexer": "ipython3",
      "nbconvert_exporter": "python",
      "file_extension": ".py"
    }
  },
  "nbformat": 4,
  "nbformat_minor": 1
}